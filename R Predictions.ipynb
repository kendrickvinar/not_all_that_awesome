{
 "cells": [
  {
   "cell_type": "code",
   "execution_count": 10,
   "metadata": {
    "collapsed": false
   },
   "outputs": [
    {
     "name": "stderr",
     "output_type": "stream",
     "text": [
      "The following objects are masked from predictions:\n",
      "\n",
      "    pt_diff, round, team1drratioag, team1drratiofor, team1goodlosses,\n",
      "    team1goodwins, team1kende, team1kenoe, team1kentempo, team1name,\n",
      "    team1orank.team2drank, team1orratioag, team1orratiofor,\n",
      "    team1pot3ptsag, team1pot3ptsfor, team1potftptsag, team1potftptsfor,\n",
      "    team1spot, team1toag, team1tofor, team2drratioag, team2drratiofor,\n",
      "    team2goodlosses, team2goodwins, team2kende, team2kenoe,\n",
      "    team2kentempo, team2name, team2orank.team1drank, team2orratioag,\n",
      "    team2orratiofor, team2pot3ptsag, team2pot3ptsfor, team2potftptsag,\n",
      "    team2potftptsfor, team2spot, team2toag, team2tofor, win_or_loss,\n",
      "    Year\n",
      "\n"
     ]
    }
   ],
   "source": [
    "\n",
    "prediction_matrix = read.csv(\"/Users/kurtbullard/Dropbox/CS109 Final Project/pred_matrix2.csv\")\n",
    "attach(prediction_matrix)"
   ]
  },
  {
   "cell_type": "code",
   "execution_count": null,
   "metadata": {
    "collapsed": false
   },
   "outputs": [],
   "source": [
    "model1 = step(glm(prediction_matrix$win_or_loss~., family='binomial', data=prediction_matrix[,1:33]))\n",
    "\n",
    "summary(model1)"
   ]
  },
  {
   "cell_type": "code",
   "execution_count": null,
   "metadata": {
    "collapsed": true
   },
   "outputs": [],
   "source": []
  }
 ],
 "metadata": {
  "kernelspec": {
   "display_name": "R",
   "language": "R",
   "name": "ir"
  },
  "language_info": {
   "codemirror_mode": "r",
   "file_extension": ".r",
   "mimetype": "text/x-r-source",
   "name": "R",
   "pygments_lexer": "r",
   "version": "3.3.1"
  }
 },
 "nbformat": 4,
 "nbformat_minor": 0
}
